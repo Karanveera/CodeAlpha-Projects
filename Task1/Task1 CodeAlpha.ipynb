{
  "nbformat": 4,
  "nbformat_minor": 0,
  "metadata": {
    "colab": {
      "provenance": []
    },
    "kernelspec": {
      "name": "python3",
      "display_name": "Python 3"
    },
    "language_info": {
      "name": "python"
    }
  },
  "cells": [
    {
      "cell_type": "code",
      "execution_count": 8,
      "metadata": {
        "colab": {
          "base_uri": "https://localhost:8080/"
        },
        "id": "zAk4wwUwpkwF",
        "outputId": "9aef6f4a-80a9-489e-d52f-05d37dc45ed6"
      },
      "outputs": [
        {
          "output_type": "stream",
          "name": "stdout",
          "text": [
            "Enter the path to the Iris Dataset CSV file: Iris.csv\n",
            "Accuracy: 1.00\n",
            "Classification Report:\n",
            "                 precision    recall  f1-score   support\n",
            "\n",
            "    Iris-setosa       1.00      1.00      1.00        10\n",
            "Iris-versicolor       1.00      1.00      1.00         9\n",
            " Iris-virginica       1.00      1.00      1.00        11\n",
            "\n",
            "       accuracy                           1.00        30\n",
            "      macro avg       1.00      1.00      1.00        30\n",
            "   weighted avg       1.00      1.00      1.00        30\n",
            "\n",
            "Results saved to 'model_evaluation.txt'\n"
          ]
        }
      ],
      "source": [
        "import pandas as pd\n",
        "from sklearn.model_selection import train_test_split\n",
        "from sklearn.tree import DecisionTreeClassifier\n",
        "from sklearn.metrics import accuracy_score, classification_report\n",
        "from google.colab import files\n",
        "\n",
        "\n",
        "# Load the dataset from a CSV file\n",
        "file_path = input(\"Enter the path to the Iris Dataset CSV file: \")\n",
        "iris_data = pd.read_csv(file_path)\n",
        "\n",
        "# Prepare the data\n",
        "X = iris_data.drop(columns=['Id', 'Species'])\n",
        "y = iris_data['Species']\n",
        "\n",
        "# Split the dataset\n",
        "X_train, X_test, y_train, y_test = train_test_split(X, y, test_size=0.2, random_state=42)\n",
        "\n",
        "# Initialize and train the Decision Tree Classifier\n",
        "model = DecisionTreeClassifier(random_state=42)\n",
        "model.fit(X_train, y_train)\n",
        "\n",
        "# Make predictions\n",
        "y_pred = model.predict(X_test)\n",
        "\n",
        "# Evaluate the model\n",
        "accuracy = accuracy_score(y_test, y_pred)\n",
        "classification_report_text = classification_report(y_test, y_pred)\n",
        "\n",
        "# Print results\n",
        "print(f\"Accuracy: {accuracy:.2f}\")\n",
        "print(\"Classification Report:\")\n",
        "print(classification_report_text)\n",
        "\n",
        "# Save results to a file\n",
        "with open('model_evaluation.txt', 'w') as file:\n",
        "    file.write(f\"Accuracy: {accuracy:.2f}\\n\")\n",
        "    file.write(\"Classification Report:\\n\")\n",
        "    file.write(classification_report_text)\n",
        "\n",
        "print(\"Results saved to 'model_evaluation.txt'\")"
      ]
    },
    {
      "cell_type": "markdown",
      "source": [
        "# New section"
      ],
      "metadata": {
        "id": "faNyww1iqqKP"
      }
    }
  ]
}
